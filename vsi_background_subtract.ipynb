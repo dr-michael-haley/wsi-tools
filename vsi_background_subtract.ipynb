{
 "cells": [
  {
   "cell_type": "code",
   "execution_count": 15,
   "id": "f0491cc7-bfb4-40a6-9d3a-75ef6e64d9b0",
   "metadata": {},
   "outputs": [
    {
     "data": {
      "text/plain": [
       "<module 'wsitools' from 'D:\\\\Programming\\\\wsi-tools\\\\wsitools.py'>"
      ]
     },
     "execution_count": 15,
     "metadata": {},
     "output_type": "execute_result"
    }
   ],
   "source": [
    "import wsitools\n",
    "import importlib\n",
    "importlib.reload(wsitools)\n"
   ]
  },
  {
   "cell_type": "code",
   "execution_count": 18,
   "id": "f3d3ca16-207a-446e-8e6b-11b5c6635ddf",
   "metadata": {},
   "outputs": [],
   "source": [
    "import os\n",
    "from ome_types import from_xml\n",
    "from pathlib import Path\n",
    "import dask\n",
    "import dask.array as da\n",
    "import zarr"
   ]
  },
  {
   "cell_type": "code",
   "execution_count": 20,
   "id": "3a9f560d-44cc-416c-8202-8f2bd9b2e245",
   "metadata": {},
   "outputs": [],
   "source": [
    "zarr_path = Path(r\"D:\\Programming\\whole_slide_analysis\\Images_raw\")"
   ]
  },
  {
   "cell_type": "code",
   "execution_count": 23,
   "id": "cb7b77b6-add6-4102-a0ac-c663990a7bed",
   "metadata": {},
   "outputs": [],
   "source": [
    "# Open raw folder as Zarr\n",
    "store = zarr.open(zarr_path, mode='r+')['0']\n",
    "\n",
    "# Access specific level of pyramid (usually top, 0)\n",
    "raw_zarr = store['0']\n",
    "\n",
    "raw_dask = da.from_zarr(raw_zarr)"
   ]
  },
  {
   "cell_type": "code",
   "execution_count": 61,
   "id": "2137213a-ac6a-4ec9-ae45-7c6770cb0334",
   "metadata": {},
   "outputs": [
    {
     "data": {
      "text/plain": [
       "5"
      ]
     },
     "execution_count": 61,
     "metadata": {},
     "output_type": "execute_result"
    }
   ],
   "source": [
    "ndim = raw_dask.ndim"
   ]
  },
  {
   "cell_type": "code",
   "execution_count": 62,
   "id": "5bece9bb-abf5-4bf0-bc65-d450070bf101",
   "metadata": {},
   "outputs": [],
   "source": [
    "ndim = raw_dask.ndim\n",
    "σ = 50\n",
    "sigma = (0.0,)*(ndim-2)+(σ,σ)"
   ]
  },
  {
   "cell_type": "code",
   "execution_count": 63,
   "id": "ad90a5d3-7b00-4731-9085-3aa7dc5e1b23",
   "metadata": {},
   "outputs": [
    {
     "data": {
      "text/plain": [
       "(0.0, 0.0, 0.0, 50, 50)"
      ]
     },
     "execution_count": 63,
     "metadata": {},
     "output_type": "execute_result"
    }
   ],
   "source": [
    "sigma"
   ]
  },
  {
   "cell_type": "code",
   "execution_count": null,
   "id": "9a5f6efb-0b59-4a75-9599-a3ea89acbc82",
   "metadata": {},
   "outputs": [],
   "source": [
    "channel_order = ['TC\n",
    "for c in channel_order:\n",
    "    "
   ]
  },
  {
   "cell_type": "code",
   "execution_count": 55,
   "id": "8d3762d8-49d6-450e-a5c0-c150d1e4f28c",
   "metadata": {},
   "outputs": [],
   "source": [
    "channel_order = 'CZXYT'"
   ]
  },
  {
   "cell_type": "code",
   "execution_count": 57,
   "id": "a1c2deb9-b6a5-4f79-a832-c37923a443be",
   "metadata": {},
   "outputs": [
    {
     "data": {
      "text/plain": [
       "'CZXYT'"
      ]
     },
     "execution_count": 57,
     "metadata": {},
     "output_type": "execute_result"
    }
   ],
   "source": [
    "channel_order"
   ]
  },
  {
   "cell_type": "code",
   "execution_count": 58,
   "id": "b90ed366-9c1e-45a9-abc4-8e0db8bd8669",
   "metadata": {},
   "outputs": [
    {
     "data": {
      "text/plain": [
       "[4, 0, 1, 3, 2]"
      ]
     },
     "execution_count": 58,
     "metadata": {},
     "output_type": "execute_result"
    }
   ],
   "source": [
    "[channel_order.index(x) for x in \"TCZYX\"]"
   ]
  },
  {
   "cell_type": "code",
   "execution_count": 49,
   "id": "3cb1791d-f45e-4113-9d28-c6efda887cb8",
   "metadata": {},
   "outputs": [
    {
     "ename": "ValueError",
     "evalue": "not enough values to unpack (expected 5, got 1)",
     "output_type": "error",
     "traceback": [
      "\u001b[31m---------------------------------------------------------------------------\u001b[39m",
      "\u001b[31mValueError\u001b[39m                                Traceback (most recent call last)",
      "\u001b[36mCell\u001b[39m\u001b[36m \u001b[39m\u001b[32mIn[49]\u001b[39m\u001b[32m, line 1\u001b[39m\n\u001b[32m----> \u001b[39m\u001b[32m1\u001b[39m T, C, Z, Y, X = [channel_order.index(x) \u001b[38;5;28;01mfor\u001b[39;00m x \u001b[38;5;129;01min\u001b[39;00m channel_order]\n",
      "\u001b[31mValueError\u001b[39m: not enough values to unpack (expected 5, got 1)"
     ]
    }
   ],
   "source": [
    "T, C, Z, Y, X = [channel_order.index(x) for x in channel_order]"
   ]
  },
  {
   "cell_type": "code",
   "execution_count": 41,
   "id": "73b3538d-d9c4-4bce-be88-a9435985c240",
   "metadata": {},
   "outputs": [],
   "source": [
    "a, b = [1,2]"
   ]
  },
  {
   "cell_type": "code",
   "execution_count": 40,
   "id": "6c8ee3f3-feee-4f45-8869-7372b4c4c0b0",
   "metadata": {},
   "outputs": [
    {
     "data": {
      "text/plain": [
       "1"
      ]
     },
     "execution_count": 40,
     "metadata": {},
     "output_type": "execute_result"
    }
   ],
   "source": [
    "channel_order.index('C')"
   ]
  },
  {
   "cell_type": "code",
   "execution_count": 34,
   "id": "cc086bc3-2164-4934-ae62-673d94aa89f6",
   "metadata": {},
   "outputs": [
    {
     "data": {
      "text/plain": [
       "['T', 'C']"
      ]
     },
     "execution_count": 34,
     "metadata": {},
     "output_type": "execute_result"
    }
   ],
   "source": [
    "[x for x in channel_order]"
   ]
  },
  {
   "cell_type": "code",
   "execution_count": null,
   "id": "2443eb67-48aa-4891-81aa-3648f4f3b198",
   "metadata": {},
   "outputs": [],
   "source": [
    "channel_order."
   ]
  },
  {
   "cell_type": "code",
   "execution_count": null,
   "id": "af6da55d-4387-417f-8bbc-7e495b517b9b",
   "metadata": {},
   "outputs": [],
   "source": [
    "Time = 0\n",
    "Channels = 1\n",
    "Z = 2\n",
    "Y = 3\n",
    "X = 4"
   ]
  },
  {
   "cell_type": "code",
   "execution_count": 35,
   "id": "ed12e021-edda-4f46-85bb-e6b4c9cac951",
   "metadata": {},
   "outputs": [
    {
     "data": {
      "text/plain": [
       "0"
      ]
     },
     "execution_count": 35,
     "metadata": {},
     "output_type": "execute_result"
    }
   ],
   "source": [
    "[x for x in channel_order].index('T')"
   ]
  },
  {
   "cell_type": "code",
   "execution_count": 24,
   "id": "0654c176-0d24-4e8d-8ede-d8b857bfd3eb",
   "metadata": {},
   "outputs": [
    {
     "data": {
      "text/html": [
       "<table>\n",
       "    <tr>\n",
       "        <td>\n",
       "            <table style=\"border-collapse: collapse;\">\n",
       "                <thead>\n",
       "                    <tr>\n",
       "                        <td> </td>\n",
       "                        <th> Array </th>\n",
       "                        <th> Chunk </th>\n",
       "                    </tr>\n",
       "                </thead>\n",
       "                <tbody>\n",
       "                    \n",
       "                    <tr>\n",
       "                        <th> Bytes </th>\n",
       "                        <td> 31.66 GiB </td>\n",
       "                        <td> 2.00 MiB </td>\n",
       "                    </tr>\n",
       "                    \n",
       "                    <tr>\n",
       "                        <th> Shape </th>\n",
       "                        <td> (1, 2, 1, 60337, 140834) </td>\n",
       "                        <td> (1, 1, 1, 1024, 1024) </td>\n",
       "                    </tr>\n",
       "                    <tr>\n",
       "                        <th> Dask graph </th>\n",
       "                        <td colspan=\"2\"> 16284 chunks in 2 graph layers </td>\n",
       "                    </tr>\n",
       "                    <tr>\n",
       "                        <th> Data type </th>\n",
       "                        <td colspan=\"2\"> >u2 numpy.ndarray </td>\n",
       "                    </tr>\n",
       "                </tbody>\n",
       "            </table>\n",
       "        </td>\n",
       "        <td>\n",
       "        <svg width=\"374\" height=\"116\" style=\"stroke:rgb(0,0,0);stroke-width:1\" >\n",
       "\n",
       "  <!-- Horizontal lines -->\n",
       "  <line x1=\"0\" y1=\"0\" x2=\"25\" y2=\"0\" style=\"stroke-width:2\" />\n",
       "  <line x1=\"0\" y1=\"25\" x2=\"25\" y2=\"25\" style=\"stroke-width:2\" />\n",
       "\n",
       "  <!-- Vertical lines -->\n",
       "  <line x1=\"0\" y1=\"0\" x2=\"0\" y2=\"25\" style=\"stroke-width:2\" />\n",
       "  <line x1=\"12\" y1=\"0\" x2=\"12\" y2=\"25\" />\n",
       "  <line x1=\"25\" y1=\"0\" x2=\"25\" y2=\"25\" style=\"stroke-width:2\" />\n",
       "\n",
       "  <!-- Colored Rectangle -->\n",
       "  <polygon points=\"0.0,0.0 25.412616514582485,0.0 25.412616514582485,25.412616514582485 0.0,25.412616514582485\" style=\"fill:#ECB172A0;stroke-width:0\"/>\n",
       "\n",
       "  <!-- Text -->\n",
       "  <text x=\"12.706308\" y=\"45.412617\" font-size=\"1.0rem\" font-weight=\"100\" text-anchor=\"middle\" >2</text>\n",
       "  <text x=\"45.412617\" y=\"12.706308\" font-size=\"1.0rem\" font-weight=\"100\" text-anchor=\"middle\" transform=\"rotate(0,45.412617,12.706308)\">1</text>\n",
       "\n",
       "\n",
       "  <!-- Horizontal lines -->\n",
       "  <line x1=\"95\" y1=\"0\" x2=\"109\" y2=\"14\" style=\"stroke-width:2\" />\n",
       "  <line x1=\"95\" y1=\"0\" x2=\"109\" y2=\"15\" />\n",
       "  <line x1=\"95\" y1=\"2\" x2=\"109\" y2=\"17\" />\n",
       "  <line x1=\"95\" y1=\"4\" x2=\"109\" y2=\"19\" />\n",
       "  <line x1=\"95\" y1=\"6\" x2=\"109\" y2=\"21\" />\n",
       "  <line x1=\"95\" y1=\"7\" x2=\"109\" y2=\"22\" />\n",
       "  <line x1=\"95\" y1=\"9\" x2=\"109\" y2=\"24\" />\n",
       "  <line x1=\"95\" y1=\"10\" x2=\"109\" y2=\"25\" />\n",
       "  <line x1=\"95\" y1=\"12\" x2=\"109\" y2=\"27\" />\n",
       "  <line x1=\"95\" y1=\"13\" x2=\"109\" y2=\"28\" />\n",
       "  <line x1=\"95\" y1=\"15\" x2=\"109\" y2=\"30\" />\n",
       "  <line x1=\"95\" y1=\"17\" x2=\"109\" y2=\"32\" />\n",
       "  <line x1=\"95\" y1=\"19\" x2=\"109\" y2=\"34\" />\n",
       "  <line x1=\"95\" y1=\"20\" x2=\"109\" y2=\"35\" />\n",
       "  <line x1=\"95\" y1=\"21\" x2=\"109\" y2=\"36\" />\n",
       "  <line x1=\"95\" y1=\"23\" x2=\"109\" y2=\"38\" />\n",
       "  <line x1=\"95\" y1=\"25\" x2=\"109\" y2=\"40\" />\n",
       "  <line x1=\"95\" y1=\"27\" x2=\"109\" y2=\"41\" />\n",
       "  <line x1=\"95\" y1=\"28\" x2=\"109\" y2=\"43\" />\n",
       "  <line x1=\"95\" y1=\"30\" x2=\"109\" y2=\"45\" />\n",
       "  <line x1=\"95\" y1=\"31\" x2=\"109\" y2=\"46\" />\n",
       "  <line x1=\"95\" y1=\"33\" x2=\"109\" y2=\"48\" />\n",
       "  <line x1=\"95\" y1=\"34\" x2=\"109\" y2=\"49\" />\n",
       "  <line x1=\"95\" y1=\"36\" x2=\"109\" y2=\"51\" />\n",
       "  <line x1=\"95\" y1=\"38\" x2=\"109\" y2=\"53\" />\n",
       "  <line x1=\"95\" y1=\"40\" x2=\"109\" y2=\"55\" />\n",
       "  <line x1=\"95\" y1=\"41\" x2=\"109\" y2=\"55\" />\n",
       "  <line x1=\"95\" y1=\"42\" x2=\"109\" y2=\"57\" />\n",
       "  <line x1=\"95\" y1=\"44\" x2=\"109\" y2=\"59\" />\n",
       "  <line x1=\"95\" y1=\"46\" x2=\"109\" y2=\"61\" />\n",
       "  <line x1=\"95\" y1=\"47\" x2=\"109\" y2=\"62\" />\n",
       "  <line x1=\"95\" y1=\"49\" x2=\"109\" y2=\"64\" />\n",
       "  <line x1=\"95\" y1=\"51\" x2=\"109\" y2=\"66\" style=\"stroke-width:2\" />\n",
       "\n",
       "  <!-- Vertical lines -->\n",
       "  <line x1=\"95\" y1=\"0\" x2=\"95\" y2=\"51\" style=\"stroke-width:2\" />\n",
       "  <line x1=\"109\" y1=\"14\" x2=\"109\" y2=\"66\" style=\"stroke-width:2\" />\n",
       "\n",
       "  <!-- Colored Rectangle -->\n",
       "  <polygon points=\"95.0,0.0 109.9485979497544,14.948597949754403 109.9485979497544,66.35976286731693 95.0,51.41116491756252\" style=\"fill:#8B4903A0;stroke-width:0\"/>\n",
       "\n",
       "  <!-- Horizontal lines -->\n",
       "  <line x1=\"95\" y1=\"0\" x2=\"215\" y2=\"0\" style=\"stroke-width:2\" />\n",
       "  <line x1=\"109\" y1=\"14\" x2=\"229\" y2=\"14\" style=\"stroke-width:2\" />\n",
       "\n",
       "  <!-- Vertical lines -->\n",
       "  <line x1=\"95\" y1=\"0\" x2=\"109\" y2=\"14\" style=\"stroke-width:2\" />\n",
       "  <line x1=\"98\" y1=\"0\" x2=\"113\" y2=\"14\" />\n",
       "  <line x1=\"101\" y1=\"0\" x2=\"116\" y2=\"14\" />\n",
       "  <line x1=\"105\" y1=\"0\" x2=\"120\" y2=\"14\" />\n",
       "  <line x1=\"109\" y1=\"0\" x2=\"124\" y2=\"14\" />\n",
       "  <line x1=\"113\" y1=\"0\" x2=\"128\" y2=\"14\" />\n",
       "  <line x1=\"116\" y1=\"0\" x2=\"131\" y2=\"14\" />\n",
       "  <line x1=\"121\" y1=\"0\" x2=\"136\" y2=\"14\" />\n",
       "  <line x1=\"124\" y1=\"0\" x2=\"139\" y2=\"14\" />\n",
       "  <line x1=\"128\" y1=\"0\" x2=\"143\" y2=\"14\" />\n",
       "  <line x1=\"132\" y1=\"0\" x2=\"147\" y2=\"14\" />\n",
       "  <line x1=\"136\" y1=\"0\" x2=\"150\" y2=\"14\" />\n",
       "  <line x1=\"139\" y1=\"0\" x2=\"154\" y2=\"14\" />\n",
       "  <line x1=\"143\" y1=\"0\" x2=\"158\" y2=\"14\" />\n",
       "  <line x1=\"147\" y1=\"0\" x2=\"162\" y2=\"14\" />\n",
       "  <line x1=\"150\" y1=\"0\" x2=\"165\" y2=\"14\" />\n",
       "  <line x1=\"155\" y1=\"0\" x2=\"170\" y2=\"14\" />\n",
       "  <line x1=\"158\" y1=\"0\" x2=\"173\" y2=\"14\" />\n",
       "  <line x1=\"162\" y1=\"0\" x2=\"177\" y2=\"14\" />\n",
       "  <line x1=\"165\" y1=\"0\" x2=\"180\" y2=\"14\" />\n",
       "  <line x1=\"170\" y1=\"0\" x2=\"184\" y2=\"14\" />\n",
       "  <line x1=\"173\" y1=\"0\" x2=\"188\" y2=\"14\" />\n",
       "  <line x1=\"177\" y1=\"0\" x2=\"191\" y2=\"14\" />\n",
       "  <line x1=\"181\" y1=\"0\" x2=\"196\" y2=\"14\" />\n",
       "  <line x1=\"184\" y1=\"0\" x2=\"199\" y2=\"14\" />\n",
       "  <line x1=\"188\" y1=\"0\" x2=\"203\" y2=\"14\" />\n",
       "  <line x1=\"192\" y1=\"0\" x2=\"207\" y2=\"14\" />\n",
       "  <line x1=\"196\" y1=\"0\" x2=\"211\" y2=\"14\" />\n",
       "  <line x1=\"199\" y1=\"0\" x2=\"214\" y2=\"14\" />\n",
       "  <line x1=\"204\" y1=\"0\" x2=\"219\" y2=\"14\" />\n",
       "  <line x1=\"207\" y1=\"0\" x2=\"222\" y2=\"14\" />\n",
       "  <line x1=\"211\" y1=\"0\" x2=\"225\" y2=\"14\" />\n",
       "  <line x1=\"215\" y1=\"0\" x2=\"229\" y2=\"14\" style=\"stroke-width:2\" />\n",
       "\n",
       "  <!-- Colored Rectangle -->\n",
       "  <polygon points=\"95.0,0.0 215.0,0.0 229.9485979497544,14.948597949754403 109.9485979497544,14.948597949754403\" style=\"fill:#8B4903A0;stroke-width:0\"/>\n",
       "\n",
       "  <!-- Horizontal lines -->\n",
       "  <line x1=\"109\" y1=\"14\" x2=\"229\" y2=\"14\" style=\"stroke-width:2\" />\n",
       "  <line x1=\"109\" y1=\"15\" x2=\"229\" y2=\"15\" />\n",
       "  <line x1=\"109\" y1=\"17\" x2=\"229\" y2=\"17\" />\n",
       "  <line x1=\"109\" y1=\"19\" x2=\"229\" y2=\"19\" />\n",
       "  <line x1=\"109\" y1=\"21\" x2=\"229\" y2=\"21\" />\n",
       "  <line x1=\"109\" y1=\"22\" x2=\"229\" y2=\"22\" />\n",
       "  <line x1=\"109\" y1=\"24\" x2=\"229\" y2=\"24\" />\n",
       "  <line x1=\"109\" y1=\"25\" x2=\"229\" y2=\"25\" />\n",
       "  <line x1=\"109\" y1=\"27\" x2=\"229\" y2=\"27\" />\n",
       "  <line x1=\"109\" y1=\"28\" x2=\"229\" y2=\"28\" />\n",
       "  <line x1=\"109\" y1=\"30\" x2=\"229\" y2=\"30\" />\n",
       "  <line x1=\"109\" y1=\"32\" x2=\"229\" y2=\"32\" />\n",
       "  <line x1=\"109\" y1=\"34\" x2=\"229\" y2=\"34\" />\n",
       "  <line x1=\"109\" y1=\"35\" x2=\"229\" y2=\"35\" />\n",
       "  <line x1=\"109\" y1=\"36\" x2=\"229\" y2=\"36\" />\n",
       "  <line x1=\"109\" y1=\"38\" x2=\"229\" y2=\"38\" />\n",
       "  <line x1=\"109\" y1=\"40\" x2=\"229\" y2=\"40\" />\n",
       "  <line x1=\"109\" y1=\"41\" x2=\"229\" y2=\"41\" />\n",
       "  <line x1=\"109\" y1=\"43\" x2=\"229\" y2=\"43\" />\n",
       "  <line x1=\"109\" y1=\"45\" x2=\"229\" y2=\"45\" />\n",
       "  <line x1=\"109\" y1=\"46\" x2=\"229\" y2=\"46\" />\n",
       "  <line x1=\"109\" y1=\"48\" x2=\"229\" y2=\"48\" />\n",
       "  <line x1=\"109\" y1=\"49\" x2=\"229\" y2=\"49\" />\n",
       "  <line x1=\"109\" y1=\"51\" x2=\"229\" y2=\"51\" />\n",
       "  <line x1=\"109\" y1=\"53\" x2=\"229\" y2=\"53\" />\n",
       "  <line x1=\"109\" y1=\"55\" x2=\"229\" y2=\"55\" />\n",
       "  <line x1=\"109\" y1=\"55\" x2=\"229\" y2=\"55\" />\n",
       "  <line x1=\"109\" y1=\"57\" x2=\"229\" y2=\"57\" />\n",
       "  <line x1=\"109\" y1=\"59\" x2=\"229\" y2=\"59\" />\n",
       "  <line x1=\"109\" y1=\"61\" x2=\"229\" y2=\"61\" />\n",
       "  <line x1=\"109\" y1=\"62\" x2=\"229\" y2=\"62\" />\n",
       "  <line x1=\"109\" y1=\"64\" x2=\"229\" y2=\"64\" />\n",
       "  <line x1=\"109\" y1=\"66\" x2=\"229\" y2=\"66\" style=\"stroke-width:2\" />\n",
       "\n",
       "  <!-- Vertical lines -->\n",
       "  <line x1=\"109\" y1=\"14\" x2=\"109\" y2=\"66\" style=\"stroke-width:2\" />\n",
       "  <line x1=\"113\" y1=\"14\" x2=\"113\" y2=\"66\" />\n",
       "  <line x1=\"116\" y1=\"14\" x2=\"116\" y2=\"66\" />\n",
       "  <line x1=\"120\" y1=\"14\" x2=\"120\" y2=\"66\" />\n",
       "  <line x1=\"124\" y1=\"14\" x2=\"124\" y2=\"66\" />\n",
       "  <line x1=\"128\" y1=\"14\" x2=\"128\" y2=\"66\" />\n",
       "  <line x1=\"131\" y1=\"14\" x2=\"131\" y2=\"66\" />\n",
       "  <line x1=\"136\" y1=\"14\" x2=\"136\" y2=\"66\" />\n",
       "  <line x1=\"139\" y1=\"14\" x2=\"139\" y2=\"66\" />\n",
       "  <line x1=\"143\" y1=\"14\" x2=\"143\" y2=\"66\" />\n",
       "  <line x1=\"147\" y1=\"14\" x2=\"147\" y2=\"66\" />\n",
       "  <line x1=\"150\" y1=\"14\" x2=\"150\" y2=\"66\" />\n",
       "  <line x1=\"154\" y1=\"14\" x2=\"154\" y2=\"66\" />\n",
       "  <line x1=\"158\" y1=\"14\" x2=\"158\" y2=\"66\" />\n",
       "  <line x1=\"162\" y1=\"14\" x2=\"162\" y2=\"66\" />\n",
       "  <line x1=\"165\" y1=\"14\" x2=\"165\" y2=\"66\" />\n",
       "  <line x1=\"170\" y1=\"14\" x2=\"170\" y2=\"66\" />\n",
       "  <line x1=\"173\" y1=\"14\" x2=\"173\" y2=\"66\" />\n",
       "  <line x1=\"177\" y1=\"14\" x2=\"177\" y2=\"66\" />\n",
       "  <line x1=\"180\" y1=\"14\" x2=\"180\" y2=\"66\" />\n",
       "  <line x1=\"184\" y1=\"14\" x2=\"184\" y2=\"66\" />\n",
       "  <line x1=\"188\" y1=\"14\" x2=\"188\" y2=\"66\" />\n",
       "  <line x1=\"191\" y1=\"14\" x2=\"191\" y2=\"66\" />\n",
       "  <line x1=\"196\" y1=\"14\" x2=\"196\" y2=\"66\" />\n",
       "  <line x1=\"199\" y1=\"14\" x2=\"199\" y2=\"66\" />\n",
       "  <line x1=\"203\" y1=\"14\" x2=\"203\" y2=\"66\" />\n",
       "  <line x1=\"207\" y1=\"14\" x2=\"207\" y2=\"66\" />\n",
       "  <line x1=\"211\" y1=\"14\" x2=\"211\" y2=\"66\" />\n",
       "  <line x1=\"214\" y1=\"14\" x2=\"214\" y2=\"66\" />\n",
       "  <line x1=\"219\" y1=\"14\" x2=\"219\" y2=\"66\" />\n",
       "  <line x1=\"222\" y1=\"14\" x2=\"222\" y2=\"66\" />\n",
       "  <line x1=\"225\" y1=\"14\" x2=\"225\" y2=\"66\" />\n",
       "  <line x1=\"229\" y1=\"14\" x2=\"229\" y2=\"66\" style=\"stroke-width:2\" />\n",
       "\n",
       "  <!-- Colored Rectangle -->\n",
       "  <polygon points=\"109.9485979497544,14.948597949754403 229.9485979497544,14.948597949754403 229.9485979497544,66.35976286731693 109.9485979497544,66.35976286731693\" style=\"fill:#8B4903A0;stroke-width:0\"/>\n",
       "\n",
       "  <!-- Text -->\n",
       "  <text x=\"169.948598\" y=\"86.359763\" font-size=\"1.0rem\" font-weight=\"100\" text-anchor=\"middle\" >140834</text>\n",
       "  <text x=\"249.948598\" y=\"40.654180\" font-size=\"1.0rem\" font-weight=\"100\" text-anchor=\"middle\" transform=\"rotate(-90,249.948598,40.654180)\">60337</text>\n",
       "  <text x=\"92.474299\" y=\"78.885464\" font-size=\"1.0rem\" font-weight=\"100\" text-anchor=\"middle\" transform=\"rotate(45,92.474299,78.885464)\">1</text>\n",
       "</svg>\n",
       "        </td>\n",
       "    </tr>\n",
       "</table>"
      ],
      "text/plain": [
       "dask.array<from-zarr, shape=(1, 2, 1, 60337, 140834), dtype=>u2, chunksize=(1, 1, 1, 1024, 1024), chunktype=numpy.ndarray>"
      ]
     },
     "execution_count": 24,
     "metadata": {},
     "output_type": "execute_result"
    }
   ],
   "source": [
    "raw_dask"
   ]
  },
  {
   "cell_type": "code",
   "execution_count": 7,
   "id": "5dd572bd-9f5e-4800-bb8b-3cf1d95331f1",
   "metadata": {},
   "outputs": [],
   "source": [
    "# Load metadata\n",
    "with open(os.path.join(raw_folder, \"OME\", \"METADATA.ome.xml\"), encoding='utf-8') as f:\n",
    "    xml_text = f.read()\n",
    "\n",
    "xml_text = xml_text.replace(\"Âµm\", \"µm\")\n",
    "\n",
    "# Now parse with ome-types\n",
    "ome = from_xml(xml_text)\n",
    "    \n",
    "pixels = ome.images[0].pixels\n",
    "size_z, size_c, size_y, size_x = pixels.size_z, pixels.size_c, pixels.size_y, pixels.size_x"
   ]
  },
  {
   "cell_type": "code",
   "execution_count": null,
   "id": "2bd833e2-c40b-4962-a341-d3886a2b35f3",
   "metadata": {},
   "outputs": [],
   "source": []
  },
  {
   "cell_type": "code",
   "execution_count": 12,
   "id": "7aa74c4d-5041-4b02-9c56-537b2a7e873e",
   "metadata": {},
   "outputs": [
    {
     "data": {
      "text/plain": [
       "[Channel(\n",
       "    id='Channel:2:0',\n",
       "    name='KSS DAPI',\n",
       "    detector_settings={'id': 'Detector:0:2', 'binning': <Binning.ONEBYONE: '1x1'>},\n",
       "    light_path={},\n",
       "    samples_per_pixel=1,\n",
       "    emission_wavelength=455.0,\n",
       " ),\n",
       " Channel(\n",
       "    id='Channel:2:1',\n",
       "    name='KSS TXRed',\n",
       "    detector_settings={'id': 'Detector:0:2', 'binning': <Binning.ONEBYONE: '1x1'>},\n",
       "    light_path={},\n",
       "    samples_per_pixel=1,\n",
       "    emission_wavelength=615.0,\n",
       " )]"
      ]
     },
     "execution_count": 12,
     "metadata": {},
     "output_type": "execute_result"
    }
   ],
   "source": [
    "ome.images[0].pixels.channels"
   ]
  },
  {
   "cell_type": "code",
   "execution_count": 13,
   "id": "c442a4ba-1fa2-4832-9148-a5391dfb073c",
   "metadata": {},
   "outputs": [],
   "source": [
    "# Extract channels\n",
    "channels = ome.images[0].pixels.channels\n",
    "\n",
    "# List of channel names\n",
    "channel_names = [ch.name for ch in channels]\n",
    "\n",
    "# Helper: map emission wavelength to a rough color name\n",
    "def wavelength_to_color(wavelength_nm):\n",
    "    if wavelength_nm < 500:\n",
    "        return 'blue'\n",
    "    elif 500 <= wavelength_nm < 570:\n",
    "        return 'green'\n",
    "    elif 570 <= wavelength_nm < 590:\n",
    "        return 'yellow'\n",
    "    elif 590 <= wavelength_nm < 620:\n",
    "        return 'orange'\n",
    "    elif 620 <= wavelength_nm < 750:\n",
    "        return 'red'\n",
    "    else:\n",
    "        return 'gray'  # fallback for IR/UV or unknown\n",
    "\n",
    "# List of colors for napari visualization\n",
    "channel_colors = [wavelength_to_color(ch.emission_wavelength) for ch in channels]\n"
   ]
  },
  {
   "cell_type": "code",
   "execution_count": 14,
   "id": "3bfda07c-ac34-4699-a4db-975e76126665",
   "metadata": {},
   "outputs": [
    {
     "data": {
      "text/plain": [
       "['KSS DAPI', 'KSS TXRed']"
      ]
     },
     "execution_count": 14,
     "metadata": {},
     "output_type": "execute_result"
    }
   ],
   "source": [
    "channel_names"
   ]
  },
  {
   "cell_type": "code",
   "execution_count": 16,
   "id": "b8afcb25-ed85-4c53-92a3-52a2b8b7c4eb",
   "metadata": {},
   "outputs": [
    {
     "name": "stderr",
     "output_type": "stream",
     "text": [
      "C:\\Anaconda3\\envs\\sbt\\Lib\\site-packages\\npe2\\manifest\\_npe1_adapter.py:87: UserWarning: Error importing contributions for first-generation napari plugin 'napari-assistant': No module named 'pyrsistent'\n",
      "  self._load_contributions()\n",
      "C:\\Anaconda3\\envs\\sbt\\Lib\\site-packages\\npe2\\manifest\\_npe1_adapter.py:87: UserWarning: Error importing contributions for first-generation napari plugin 'napari_pyclesperanto_assistant': No module named 'pyrsistent'\n",
      "  self._load_contributions()\n"
     ]
    },
    {
     "data": {
      "text/plain": [
       "Viewer(camera=Camera(center=(0.0, 511.5, 511.5), zoom=0.27205810546875003, angles=(0.0, 0.0, 90.0), perspective=0.0, mouse_pan=True, mouse_zoom=True, orientation=(<DepthAxisOrientation.TOWARDS: 'towards'>, <VerticalAxisOrientation.DOWN: 'down'>, <HorizontalAxisOrientation.RIGHT: 'right'>)), cursor=Cursor(position=(1.0, 1.0), scaled=True, style=<CursorStyle.STANDARD: 'standard'>, size=1.0), dims=Dims(ndim=2, ndisplay=2, order=(0, 1), axis_labels=('0', '1'), rollable=(True, True), range=(RangeTuple(start=0.0, stop=1023.0, step=1.0), RangeTuple(start=0.0, stop=1023.0, step=1.0)), margin_left=(0.0, 0.0), margin_right=(0.0, 0.0), point=(511.0, 511.0), last_used=0), grid=GridCanvas(stride=1, shape=(-1, -1), enabled=False, spacing=0.0), layers=[<Image layer 'Original - KSS DAPI' at 0x20723075070>, <Image layer 'Original - KSS TXRed' at 0x2070cf46ba0>], help='use <2> for transform', status='Ready', tooltip=Tooltip(visible=False, text=''), theme='dark', title='napari', mouse_over_canvas=False, mouse_move_callbacks=[], mouse_drag_callbacks=[], mouse_double_click_callbacks=[<function double_click_to_zoom at 0x000002070C4D7740>], mouse_wheel_callbacks=[<function dims_scroll at 0x000002070C4D76A0>], _persisted_mouse_event={}, _mouse_drag_gen={}, _mouse_wheel_gen={}, _keymap={})"
      ]
     },
     "execution_count": 16,
     "metadata": {},
     "output_type": "execute_result"
    },
    {
     "name": "stdout",
     "output_type": "stream",
     "text": [
      "ERROR: name 'ch_names' is not defined\n",
      "ERROR: name 'ch_names' is not defined\n"
     ]
    }
   ],
   "source": [
    "wsitools.napari_tile_inspector(zarr_path = Path(r\"D:\\Programming\\whole_slide_analysis\\Images_raw\"))"
   ]
  },
  {
   "cell_type": "code",
   "execution_count": null,
   "id": "b6e50886-e536-4d8a-9e85-ba092f6701b6",
   "metadata": {},
   "outputs": [],
   "source": []
  }
 ],
 "metadata": {
  "kernelspec": {
   "display_name": "Python [conda env:sbt]",
   "language": "python",
   "name": "conda-env-sbt-py"
  },
  "language_info": {
   "codemirror_mode": {
    "name": "ipython",
    "version": 3
   },
   "file_extension": ".py",
   "mimetype": "text/x-python",
   "name": "python",
   "nbconvert_exporter": "python",
   "pygments_lexer": "ipython3",
   "version": "3.12.10"
  }
 },
 "nbformat": 4,
 "nbformat_minor": 5
}
