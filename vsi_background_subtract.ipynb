{
 "cells": [
  {
   "cell_type": "code",
   "execution_count": 137,
   "id": "f0491cc7-bfb4-40a6-9d3a-75ef6e64d9b0",
   "metadata": {},
   "outputs": [
    {
     "data": {
      "text/plain": [
       "<module 'wsitools' from 'D:\\\\Programming\\\\wsi-tools\\\\wsitools.py'>"
      ]
     },
     "execution_count": 137,
     "metadata": {},
     "output_type": "execute_result"
    }
   ],
   "source": [
    "import wsitools\n",
    "import importlib\n",
    "importlib.reload(wsitools)"
   ]
  },
  {
   "cell_type": "code",
   "execution_count": 138,
   "id": "b8afcb25-ed85-4c53-92a3-52a2b8b7c4eb",
   "metadata": {},
   "outputs": [
    {
     "name": "stderr",
     "output_type": "stream",
     "text": [
      "WARNING: QWindowsWindow::setGeometry: Unable to set geometry 1086x661+431-369 (frame: 1102x700+423-400) on QWidgetWindow/\"_QtMainWindowClassWindow\" on \"\\\\.\\DISPLAY4\". Resulting geometry: 867x527+430-376 (frame: 883x566+422-407) margins: 8, 31, 8, 8 minimum size: 385x513 MINMAXINFO maxSize=0,0 maxpos=0,0 mintrack=401,552 maxtrack=0,0)\n",
      "WARNING: QWindowsWindow::setGeometry: Unable to set geometry 1534x809+430-376 (frame: 1552x856+421-414) on QWidgetWindow/\"_QtMainWindowClassWindow\" on \"\\\\.\\DISPLAY1\". Resulting geometry: 1920x1013+431-369 (frame: 1938x1060+422-407) margins: 9, 38, 9, 9 minimum size: 385x518 MINMAXINFO maxSize=0,0 maxpos=0,0 mintrack=403,565 maxtrack=0,0)\n"
     ]
    },
    {
     "data": {
      "text/plain": [
       "Viewer(camera=Camera(center=(0.0, 511.5, 511.5), zoom=0.8804199218750001, angles=(0.0, 0.0, 90.0), perspective=0.0, mouse_pan=True, mouse_zoom=True, orientation=(<DepthAxisOrientation.TOWARDS: 'towards'>, <VerticalAxisOrientation.DOWN: 'down'>, <HorizontalAxisOrientation.RIGHT: 'right'>)), cursor=Cursor(position=(1.0, 1.0), scaled=True, style=<CursorStyle.STANDARD: 'standard'>, size=1.0), dims=Dims(ndim=2, ndisplay=2, order=(0, 1), axis_labels=('0', '1'), rollable=(True, True), range=(RangeTuple(start=0.0, stop=1023.0, step=1.0), RangeTuple(start=0.0, stop=1023.0, step=1.0)), margin_left=(0.0, 0.0), margin_right=(0.0, 0.0), point=(511.0, 511.0), last_used=0), grid=GridCanvas(stride=1, shape=(-1, -1), enabled=False, spacing=0.0), layers=[<Image layer 'KSS DAPI' at 0x2078c2279b0>, <Image layer 'KSS TXRed' at 0x2078cd39700>], help='use <2> for transform', status='Ready', tooltip=Tooltip(visible=False, text=''), theme='dark', title='napari', mouse_over_canvas=False, mouse_move_callbacks=[], mouse_drag_callbacks=[], mouse_double_click_callbacks=[<function double_click_to_zoom at 0x000002070C4D7740>], mouse_wheel_callbacks=[<function dims_scroll at 0x000002070C4D76A0>], _persisted_mouse_event={}, _mouse_drag_gen={}, _mouse_wheel_gen={}, _keymap={})"
      ]
     },
     "execution_count": 138,
     "metadata": {},
     "output_type": "execute_result"
    },
    {
     "name": "stdout",
     "output_type": "stream",
     "text": [
      "INFO: Applying: [{'method': 'rolling_ball', 'sigma_px': 50, 'channels': [0]}]. Axis order: CYX.\n",
      "INFO: Applied rolling_ball to ['KSS TXRed']\n",
      "INFO: Applying: [{'method': 'rolling_ball', 'sigma_px': 50, 'channels': [0]}]. Axis order: CYX.\n",
      "INFO: Applied rolling_ball to ['KSS TXRed']\n"
     ]
    }
   ],
   "source": [
    "wsitools.napari_tile_inspector(zarr_path = Path(r\"D:\\Programming\\whole_slide_analysis\\Images_raw_regions_melanoma\\region_001\"))"
   ]
  },
  {
   "cell_type": "code",
   "execution_count": 97,
   "id": "b5563120-7e3b-4128-a609-73b183e7a40d",
   "metadata": {},
   "outputs": [],
   "source": [
    "channel_names = ['a','b','c']"
   ]
  },
  {
   "cell_type": "code",
   "execution_count": 98,
   "id": "49589a13-547e-4c98-93d7-abd4cf99b153",
   "metadata": {},
   "outputs": [
    {
     "data": {
      "text/plain": [
       "[('a', 0), ('b', 1), ('c', 2)]"
      ]
     },
     "execution_count": 98,
     "metadata": {},
     "output_type": "execute_result"
    }
   ],
   "source": [
    "list(zip(channel_names, range(len(channel_names))))"
   ]
  },
  {
   "cell_type": "code",
   "execution_count": 18,
   "id": "f3d3ca16-207a-446e-8e6b-11b5c6635ddf",
   "metadata": {},
   "outputs": [],
   "source": [
    "import os\n",
    "from ome_types import from_xml\n",
    "from pathlib import Path\n",
    "import dask\n",
    "import dask.array as da\n",
    "import zarr"
   ]
  },
  {
   "cell_type": "code",
   "execution_count": 120,
   "id": "3a9f560d-44cc-416c-8202-8f2bd9b2e245",
   "metadata": {},
   "outputs": [],
   "source": [
    "zarr_path = Path(r\"D:\\Programming\\whole_slide_analysis\\Images_raw_regions_brain\\region_001\")"
   ]
  },
  {
   "cell_type": "code",
   "execution_count": 121,
   "id": "cb7b77b6-add6-4102-a0ac-c663990a7bed",
   "metadata": {},
   "outputs": [],
   "source": [
    "# Open raw folder as Zarr\n",
    "store = zarr.open(zarr_path, mode='r+')['0']\n",
    "\n",
    "# Access specific level of pyramid (usually top, 0)\n",
    "raw_zarr = store['0']\n",
    "\n",
    "raw_dask = da.from_zarr(raw_zarr)"
   ]
  },
  {
   "cell_type": "code",
   "execution_count": 122,
   "id": "2137213a-ac6a-4ec9-ae45-7c6770cb0334",
   "metadata": {},
   "outputs": [],
   "source": [
    "ndim = raw_dask.ndim"
   ]
  },
  {
   "cell_type": "code",
   "execution_count": 123,
   "id": "5bece9bb-abf5-4bf0-bc65-d450070bf101",
   "metadata": {},
   "outputs": [],
   "source": [
    "ndim = raw_dask.ndim\n",
    "σ = 50\n",
    "sigma = (0.0,)*(ndim-2)+(σ,σ)"
   ]
  },
  {
   "cell_type": "code",
   "execution_count": 124,
   "id": "ad90a5d3-7b00-4731-9085-3aa7dc5e1b23",
   "metadata": {},
   "outputs": [
    {
     "data": {
      "text/plain": [
       "(0.0, 0.0, 0.0, 50, 50)"
      ]
     },
     "execution_count": 124,
     "metadata": {},
     "output_type": "execute_result"
    }
   ],
   "source": [
    "sigma"
   ]
  },
  {
   "cell_type": "code",
   "execution_count": 125,
   "id": "0654c176-0d24-4e8d-8ede-d8b857bfd3eb",
   "metadata": {},
   "outputs": [
    {
     "data": {
      "text/html": [
       "<table>\n",
       "    <tr>\n",
       "        <td>\n",
       "            <table style=\"border-collapse: collapse;\">\n",
       "                <thead>\n",
       "                    <tr>\n",
       "                        <td> </td>\n",
       "                        <th> Array </th>\n",
       "                        <th> Chunk </th>\n",
       "                    </tr>\n",
       "                </thead>\n",
       "                <tbody>\n",
       "                    \n",
       "                    <tr>\n",
       "                        <th> Bytes </th>\n",
       "                        <td> 2.71 GiB </td>\n",
       "                        <td> 1.00 MiB </td>\n",
       "                    </tr>\n",
       "                    \n",
       "                    <tr>\n",
       "                        <th> Shape </th>\n",
       "                        <td> (1, 3, 1, 17358, 27903) </td>\n",
       "                        <td> (1, 1, 1, 1024, 512) </td>\n",
       "                    </tr>\n",
       "                    <tr>\n",
       "                        <th> Dask graph </th>\n",
       "                        <td colspan=\"2\"> 2805 chunks in 2 graph layers </td>\n",
       "                    </tr>\n",
       "                    <tr>\n",
       "                        <th> Data type </th>\n",
       "                        <td colspan=\"2\"> >u2 numpy.ndarray </td>\n",
       "                    </tr>\n",
       "                </tbody>\n",
       "            </table>\n",
       "        </td>\n",
       "        <td>\n",
       "        <svg width=\"374\" height=\"139\" style=\"stroke:rgb(0,0,0);stroke-width:1\" >\n",
       "\n",
       "  <!-- Horizontal lines -->\n",
       "  <line x1=\"0\" y1=\"0\" x2=\"25\" y2=\"0\" style=\"stroke-width:2\" />\n",
       "  <line x1=\"0\" y1=\"25\" x2=\"25\" y2=\"25\" style=\"stroke-width:2\" />\n",
       "\n",
       "  <!-- Vertical lines -->\n",
       "  <line x1=\"0\" y1=\"0\" x2=\"0\" y2=\"25\" style=\"stroke-width:2\" />\n",
       "  <line x1=\"8\" y1=\"0\" x2=\"8\" y2=\"25\" />\n",
       "  <line x1=\"16\" y1=\"0\" x2=\"16\" y2=\"25\" />\n",
       "  <line x1=\"25\" y1=\"0\" x2=\"25\" y2=\"25\" style=\"stroke-width:2\" />\n",
       "\n",
       "  <!-- Colored Rectangle -->\n",
       "  <polygon points=\"0.0,0.0 25.412616514582485,0.0 25.412616514582485,25.412616514582485 0.0,25.412616514582485\" style=\"fill:#ECB172A0;stroke-width:0\"/>\n",
       "\n",
       "  <!-- Text -->\n",
       "  <text x=\"12.706308\" y=\"45.412617\" font-size=\"1.0rem\" font-weight=\"100\" text-anchor=\"middle\" >3</text>\n",
       "  <text x=\"45.412617\" y=\"12.706308\" font-size=\"1.0rem\" font-weight=\"100\" text-anchor=\"middle\" transform=\"rotate(0,45.412617,12.706308)\">1</text>\n",
       "\n",
       "\n",
       "  <!-- Horizontal lines -->\n",
       "  <line x1=\"95\" y1=\"0\" x2=\"109\" y2=\"14\" style=\"stroke-width:2\" />\n",
       "  <line x1=\"95\" y1=\"4\" x2=\"109\" y2=\"19\" />\n",
       "  <line x1=\"95\" y1=\"8\" x2=\"109\" y2=\"23\" />\n",
       "  <line x1=\"95\" y1=\"13\" x2=\"109\" y2=\"28\" />\n",
       "  <line x1=\"95\" y1=\"17\" x2=\"109\" y2=\"32\" />\n",
       "  <line x1=\"95\" y1=\"22\" x2=\"109\" y2=\"36\" />\n",
       "  <line x1=\"95\" y1=\"26\" x2=\"109\" y2=\"41\" />\n",
       "  <line x1=\"95\" y1=\"30\" x2=\"109\" y2=\"45\" />\n",
       "  <line x1=\"95\" y1=\"35\" x2=\"109\" y2=\"50\" />\n",
       "  <line x1=\"95\" y1=\"39\" x2=\"109\" y2=\"54\" />\n",
       "  <line x1=\"95\" y1=\"44\" x2=\"109\" y2=\"58\" />\n",
       "  <line x1=\"95\" y1=\"48\" x2=\"109\" y2=\"63\" />\n",
       "  <line x1=\"95\" y1=\"52\" x2=\"109\" y2=\"67\" />\n",
       "  <line x1=\"95\" y1=\"57\" x2=\"109\" y2=\"72\" />\n",
       "  <line x1=\"95\" y1=\"61\" x2=\"109\" y2=\"76\" />\n",
       "  <line x1=\"95\" y1=\"66\" x2=\"109\" y2=\"81\" />\n",
       "  <line x1=\"95\" y1=\"70\" x2=\"109\" y2=\"85\" />\n",
       "  <line x1=\"95\" y1=\"74\" x2=\"109\" y2=\"89\" style=\"stroke-width:2\" />\n",
       "\n",
       "  <!-- Vertical lines -->\n",
       "  <line x1=\"95\" y1=\"0\" x2=\"95\" y2=\"74\" style=\"stroke-width:2\" />\n",
       "  <line x1=\"109\" y1=\"14\" x2=\"109\" y2=\"89\" style=\"stroke-width:2\" />\n",
       "\n",
       "  <!-- Colored Rectangle -->\n",
       "  <polygon points=\"95.0,0.0 109.9485979497544,14.948597949754403 109.9485979497544,89.59863558011673 95.0,74.65003763036233\" style=\"fill:#ECB172A0;stroke-width:0\"/>\n",
       "\n",
       "  <!-- Horizontal lines -->\n",
       "  <line x1=\"95\" y1=\"0\" x2=\"215\" y2=\"0\" style=\"stroke-width:2\" />\n",
       "  <line x1=\"109\" y1=\"14\" x2=\"229\" y2=\"14\" style=\"stroke-width:2\" />\n",
       "\n",
       "  <!-- Vertical lines -->\n",
       "  <line x1=\"95\" y1=\"0\" x2=\"109\" y2=\"14\" style=\"stroke-width:2\" />\n",
       "  <line x1=\"97\" y1=\"0\" x2=\"112\" y2=\"14\" />\n",
       "  <line x1=\"101\" y1=\"0\" x2=\"116\" y2=\"14\" />\n",
       "  <line x1=\"106\" y1=\"0\" x2=\"120\" y2=\"14\" />\n",
       "  <line x1=\"108\" y1=\"0\" x2=\"123\" y2=\"14\" />\n",
       "  <line x1=\"112\" y1=\"0\" x2=\"127\" y2=\"14\" />\n",
       "  <line x1=\"117\" y1=\"0\" x2=\"131\" y2=\"14\" />\n",
       "  <line x1=\"121\" y1=\"0\" x2=\"136\" y2=\"14\" />\n",
       "  <line x1=\"123\" y1=\"0\" x2=\"138\" y2=\"14\" />\n",
       "  <line x1=\"128\" y1=\"0\" x2=\"142\" y2=\"14\" />\n",
       "  <line x1=\"132\" y1=\"0\" x2=\"147\" y2=\"14\" />\n",
       "  <line x1=\"134\" y1=\"0\" x2=\"149\" y2=\"14\" />\n",
       "  <line x1=\"139\" y1=\"0\" x2=\"153\" y2=\"14\" />\n",
       "  <line x1=\"143\" y1=\"0\" x2=\"158\" y2=\"14\" />\n",
       "  <line x1=\"147\" y1=\"0\" x2=\"162\" y2=\"14\" />\n",
       "  <line x1=\"150\" y1=\"0\" x2=\"164\" y2=\"14\" />\n",
       "  <line x1=\"154\" y1=\"0\" x2=\"169\" y2=\"14\" />\n",
       "  <line x1=\"158\" y1=\"0\" x2=\"173\" y2=\"14\" />\n",
       "  <line x1=\"161\" y1=\"0\" x2=\"176\" y2=\"14\" />\n",
       "  <line x1=\"165\" y1=\"0\" x2=\"180\" y2=\"14\" />\n",
       "  <line x1=\"169\" y1=\"0\" x2=\"184\" y2=\"14\" />\n",
       "  <line x1=\"174\" y1=\"0\" x2=\"189\" y2=\"14\" />\n",
       "  <line x1=\"176\" y1=\"0\" x2=\"191\" y2=\"14\" />\n",
       "  <line x1=\"180\" y1=\"0\" x2=\"195\" y2=\"14\" />\n",
       "  <line x1=\"185\" y1=\"0\" x2=\"200\" y2=\"14\" />\n",
       "  <line x1=\"187\" y1=\"0\" x2=\"202\" y2=\"14\" />\n",
       "  <line x1=\"191\" y1=\"0\" x2=\"206\" y2=\"14\" />\n",
       "  <line x1=\"196\" y1=\"0\" x2=\"211\" y2=\"14\" />\n",
       "  <line x1=\"200\" y1=\"0\" x2=\"215\" y2=\"14\" />\n",
       "  <line x1=\"202\" y1=\"0\" x2=\"217\" y2=\"14\" />\n",
       "  <line x1=\"207\" y1=\"0\" x2=\"222\" y2=\"14\" />\n",
       "  <line x1=\"211\" y1=\"0\" x2=\"226\" y2=\"14\" />\n",
       "  <line x1=\"215\" y1=\"0\" x2=\"229\" y2=\"14\" style=\"stroke-width:2\" />\n",
       "\n",
       "  <!-- Colored Rectangle -->\n",
       "  <polygon points=\"95.0,0.0 215.0,0.0 229.9485979497544,14.948597949754403 109.9485979497544,14.948597949754403\" style=\"fill:#8B4903A0;stroke-width:0\"/>\n",
       "\n",
       "  <!-- Horizontal lines -->\n",
       "  <line x1=\"109\" y1=\"14\" x2=\"229\" y2=\"14\" style=\"stroke-width:2\" />\n",
       "  <line x1=\"109\" y1=\"19\" x2=\"229\" y2=\"19\" />\n",
       "  <line x1=\"109\" y1=\"23\" x2=\"229\" y2=\"23\" />\n",
       "  <line x1=\"109\" y1=\"28\" x2=\"229\" y2=\"28\" />\n",
       "  <line x1=\"109\" y1=\"32\" x2=\"229\" y2=\"32\" />\n",
       "  <line x1=\"109\" y1=\"36\" x2=\"229\" y2=\"36\" />\n",
       "  <line x1=\"109\" y1=\"41\" x2=\"229\" y2=\"41\" />\n",
       "  <line x1=\"109\" y1=\"45\" x2=\"229\" y2=\"45\" />\n",
       "  <line x1=\"109\" y1=\"50\" x2=\"229\" y2=\"50\" />\n",
       "  <line x1=\"109\" y1=\"54\" x2=\"229\" y2=\"54\" />\n",
       "  <line x1=\"109\" y1=\"58\" x2=\"229\" y2=\"58\" />\n",
       "  <line x1=\"109\" y1=\"63\" x2=\"229\" y2=\"63\" />\n",
       "  <line x1=\"109\" y1=\"67\" x2=\"229\" y2=\"67\" />\n",
       "  <line x1=\"109\" y1=\"72\" x2=\"229\" y2=\"72\" />\n",
       "  <line x1=\"109\" y1=\"76\" x2=\"229\" y2=\"76\" />\n",
       "  <line x1=\"109\" y1=\"81\" x2=\"229\" y2=\"81\" />\n",
       "  <line x1=\"109\" y1=\"85\" x2=\"229\" y2=\"85\" />\n",
       "  <line x1=\"109\" y1=\"89\" x2=\"229\" y2=\"89\" style=\"stroke-width:2\" />\n",
       "\n",
       "  <!-- Vertical lines -->\n",
       "  <line x1=\"109\" y1=\"14\" x2=\"109\" y2=\"89\" style=\"stroke-width:2\" />\n",
       "  <line x1=\"112\" y1=\"14\" x2=\"112\" y2=\"89\" />\n",
       "  <line x1=\"116\" y1=\"14\" x2=\"116\" y2=\"89\" />\n",
       "  <line x1=\"120\" y1=\"14\" x2=\"120\" y2=\"89\" />\n",
       "  <line x1=\"123\" y1=\"14\" x2=\"123\" y2=\"89\" />\n",
       "  <line x1=\"127\" y1=\"14\" x2=\"127\" y2=\"89\" />\n",
       "  <line x1=\"131\" y1=\"14\" x2=\"131\" y2=\"89\" />\n",
       "  <line x1=\"136\" y1=\"14\" x2=\"136\" y2=\"89\" />\n",
       "  <line x1=\"138\" y1=\"14\" x2=\"138\" y2=\"89\" />\n",
       "  <line x1=\"142\" y1=\"14\" x2=\"142\" y2=\"89\" />\n",
       "  <line x1=\"147\" y1=\"14\" x2=\"147\" y2=\"89\" />\n",
       "  <line x1=\"149\" y1=\"14\" x2=\"149\" y2=\"89\" />\n",
       "  <line x1=\"153\" y1=\"14\" x2=\"153\" y2=\"89\" />\n",
       "  <line x1=\"158\" y1=\"14\" x2=\"158\" y2=\"89\" />\n",
       "  <line x1=\"162\" y1=\"14\" x2=\"162\" y2=\"89\" />\n",
       "  <line x1=\"164\" y1=\"14\" x2=\"164\" y2=\"89\" />\n",
       "  <line x1=\"169\" y1=\"14\" x2=\"169\" y2=\"89\" />\n",
       "  <line x1=\"173\" y1=\"14\" x2=\"173\" y2=\"89\" />\n",
       "  <line x1=\"176\" y1=\"14\" x2=\"176\" y2=\"89\" />\n",
       "  <line x1=\"180\" y1=\"14\" x2=\"180\" y2=\"89\" />\n",
       "  <line x1=\"184\" y1=\"14\" x2=\"184\" y2=\"89\" />\n",
       "  <line x1=\"189\" y1=\"14\" x2=\"189\" y2=\"89\" />\n",
       "  <line x1=\"191\" y1=\"14\" x2=\"191\" y2=\"89\" />\n",
       "  <line x1=\"195\" y1=\"14\" x2=\"195\" y2=\"89\" />\n",
       "  <line x1=\"200\" y1=\"14\" x2=\"200\" y2=\"89\" />\n",
       "  <line x1=\"202\" y1=\"14\" x2=\"202\" y2=\"89\" />\n",
       "  <line x1=\"206\" y1=\"14\" x2=\"206\" y2=\"89\" />\n",
       "  <line x1=\"211\" y1=\"14\" x2=\"211\" y2=\"89\" />\n",
       "  <line x1=\"215\" y1=\"14\" x2=\"215\" y2=\"89\" />\n",
       "  <line x1=\"217\" y1=\"14\" x2=\"217\" y2=\"89\" />\n",
       "  <line x1=\"222\" y1=\"14\" x2=\"222\" y2=\"89\" />\n",
       "  <line x1=\"226\" y1=\"14\" x2=\"226\" y2=\"89\" />\n",
       "  <line x1=\"229\" y1=\"14\" x2=\"229\" y2=\"89\" style=\"stroke-width:2\" />\n",
       "\n",
       "  <!-- Colored Rectangle -->\n",
       "  <polygon points=\"109.9485979497544,14.948597949754403 229.9485979497544,14.948597949754403 229.9485979497544,89.59863558011673 109.9485979497544,89.59863558011673\" style=\"fill:#8B4903A0;stroke-width:0\"/>\n",
       "\n",
       "  <!-- Text -->\n",
       "  <text x=\"169.948598\" y=\"109.598636\" font-size=\"1.0rem\" font-weight=\"100\" text-anchor=\"middle\" >27903</text>\n",
       "  <text x=\"249.948598\" y=\"52.273617\" font-size=\"1.0rem\" font-weight=\"100\" text-anchor=\"middle\" transform=\"rotate(-90,249.948598,52.273617)\">17358</text>\n",
       "  <text x=\"92.474299\" y=\"102.124337\" font-size=\"1.0rem\" font-weight=\"100\" text-anchor=\"middle\" transform=\"rotate(45,92.474299,102.124337)\">1</text>\n",
       "</svg>\n",
       "        </td>\n",
       "    </tr>\n",
       "</table>"
      ],
      "text/plain": [
       "dask.array<from-zarr, shape=(1, 3, 1, 17358, 27903), dtype=>u2, chunksize=(1, 1, 1, 1024, 512), chunktype=numpy.ndarray>"
      ]
     },
     "execution_count": 125,
     "metadata": {},
     "output_type": "execute_result"
    }
   ],
   "source": [
    "raw_dask"
   ]
  },
  {
   "cell_type": "code",
   "execution_count": 128,
   "id": "5dd572bd-9f5e-4800-bb8b-3cf1d95331f1",
   "metadata": {},
   "outputs": [],
   "source": [
    "# Load metadata\n",
    "with open(os.path.join(zarr_path, \"OME\", \"METADATA.ome.xml\"), encoding='utf-8') as f:\n",
    "    xml_text = f.read()\n",
    "\n",
    "xml_text = xml_text.replace(\"Âµm\", \"µm\")\n",
    "\n",
    "# Now parse with ome-types\n",
    "ome = from_xml(xml_text)\n",
    "    \n",
    "pixels = ome.images[0].pixels\n",
    "size_z, size_c, size_y, size_x = pixels.size_z, pixels.size_c, pixels.size_y, pixels.size_x"
   ]
  },
  {
   "cell_type": "code",
   "execution_count": 129,
   "id": "7aa74c4d-5041-4b02-9c56-537b2a7e873e",
   "metadata": {},
   "outputs": [
    {
     "data": {
      "text/plain": [
       "[Channel(\n",
       "    id='Channel:2:0',\n",
       "    name='KSS FITC',\n",
       "    detector_settings={'id': 'Detector:0:2', 'binning': <Binning.ONEBYONE: '1x1'>},\n",
       "    light_path={},\n",
       "    samples_per_pixel=1,\n",
       "    emission_wavelength=518.0,\n",
       " ),\n",
       " Channel(\n",
       "    id='Channel:2:1',\n",
       "    name='KSS Cy3',\n",
       "    detector_settings={'id': 'Detector:0:2', 'binning': <Binning.ONEBYONE: '1x1'>},\n",
       "    light_path={},\n",
       "    samples_per_pixel=1,\n",
       "    emission_wavelength=565.0,\n",
       " ),\n",
       " Channel(\n",
       "    id='Channel:2:2',\n",
       "    name='KSS Cy5',\n",
       "    detector_settings={'id': 'Detector:0:2', 'binning': <Binning.ONEBYONE: '1x1'>},\n",
       "    light_path={},\n",
       "    samples_per_pixel=1,\n",
       "    emission_wavelength=670.0,\n",
       " )]"
      ]
     },
     "execution_count": 129,
     "metadata": {},
     "output_type": "execute_result"
    }
   ],
   "source": [
    "ome.images[0].pixels.channels"
   ]
  },
  {
   "cell_type": "code",
   "execution_count": 130,
   "id": "c442a4ba-1fa2-4832-9148-a5391dfb073c",
   "metadata": {},
   "outputs": [],
   "source": [
    "# Extract channels\n",
    "channels = ome.images[0].pixels.channels\n",
    "\n",
    "# List of channel names\n",
    "channel_names = [ch.name for ch in channels]\n",
    "\n",
    "# Helper: map emission wavelength to a rough color name\n",
    "def wavelength_to_color(wavelength_nm):\n",
    "    if wavelength_nm < 500:\n",
    "        return 'blue'\n",
    "    elif 500 <= wavelength_nm < 570:\n",
    "        return 'green'\n",
    "    elif 570 <= wavelength_nm < 590:\n",
    "        return 'yellow'\n",
    "    elif 590 <= wavelength_nm < 620:\n",
    "        return 'orange'\n",
    "    elif 620 <= wavelength_nm < 750:\n",
    "        return 'red'\n",
    "    else:\n",
    "        return 'gray'  # fallback for IR/UV or unknown\n",
    "\n",
    "# List of colors for napari visualization\n",
    "channel_colors = [wavelength_to_color(ch.emission_wavelength) for ch in channels]\n"
   ]
  },
  {
   "cell_type": "code",
   "execution_count": 14,
   "id": "3bfda07c-ac34-4699-a4db-975e76126665",
   "metadata": {},
   "outputs": [
    {
     "data": {
      "text/plain": [
       "['KSS DAPI', 'KSS TXRed']"
      ]
     },
     "execution_count": 14,
     "metadata": {},
     "output_type": "execute_result"
    }
   ],
   "source": [
    "channel_names"
   ]
  },
  {
   "cell_type": "code",
   "execution_count": null,
   "id": "b6e50886-e536-4d8a-9e85-ba092f6701b6",
   "metadata": {},
   "outputs": [],
   "source": []
  }
 ],
 "metadata": {
  "kernelspec": {
   "display_name": "Python [conda env:sbt]",
   "language": "python",
   "name": "conda-env-sbt-py"
  },
  "language_info": {
   "codemirror_mode": {
    "name": "ipython",
    "version": 3
   },
   "file_extension": ".py",
   "mimetype": "text/x-python",
   "name": "python",
   "nbconvert_exporter": "python",
   "pygments_lexer": "ipython3",
   "version": "3.12.10"
  }
 },
 "nbformat": 4,
 "nbformat_minor": 5
}
