{
 "cells": [
  {
   "cell_type": "markdown",
   "id": "9e8f8783-84b6-42fd-8d39-f7282ed8ac75",
   "metadata": {},
   "source": [
    "# <font color='blue'>Cropping VSI files into OME.TIFFs</font>"
   ]
  },
  {
   "cell_type": "markdown",
   "id": "523cf662-38bc-49e5-a9ac-1f4195d74050",
   "metadata": {
    "tags": []
   },
   "source": [
    "## Imports"
   ]
  },
  {
   "cell_type": "code",
   "execution_count": 132,
   "id": "15015110-d869-4f66-86a7-0cd0d02e1482",
   "metadata": {},
   "outputs": [
    {
     "name": "stdout",
     "output_type": "stream",
     "text": [
      "🔧 Adding Java tool paths to environment:\n",
      "  ⚠️ Warning: path does not exist — C:\\java_packages\\bftools\n",
      "  ✅ Imported: bftools\n",
      "  ⚠️ Warning: path does not exist — C:\\java_packages\\bioformats2raw-0.10.0-rc2\\bin\n",
      "  ✅ Imported: bioformats2raw-0.10.0-rc2\n",
      "  ⚠️ Warning: path does not exist — C:\\java_packages\\raw2ometiff-0.8.0-rc1\\bin\n",
      "  ✅ Imported: raw2ometiff-0.8.0-rc1\n",
      "  ⚠️ Warning: path does not exist — C:\\java_packages\\maven-mvnd-1.0.2-windows-amd64\\bin\n",
      "  ✅ Imported: maven-mvnd-1.0.2-windows-amd64\n",
      "  ⚠️ Warning: path does not exist — C:\\java_packages\\vips-dev-8.16\\bin\n",
      "  ✅ Imported: vips-dev-8.16\n",
      "✅ Java environment updated.\n"
     ]
    }
   ],
   "source": [
    "from wsitools import wsitools as wt\n",
    "import os\n",
    "from pathlib import Path\n",
    "\n",
    "import importlib\n",
    "importlib.reload(wt)\n",
    "\n",
    "wt.add_java_paths()"
   ]
  },
  {
   "cell_type": "markdown",
   "id": "46606afc-aaa5-4d29-af7b-fa507515813c",
   "metadata": {},
   "source": [
    "## Setup paths"
   ]
  },
  {
   "cell_type": "code",
   "execution_count": null,
   "id": "d2b4d02c-5975-4c94-b850-ec5657e190f6",
   "metadata": {},
   "outputs": [],
   "source": [
    "# Path to all the VSI files we want to process - this can be a list of paths!\n",
    "vsi_paths = [r'vsis']\n",
    "vsi_path = [Path(x) for x in vsi_paths]\n",
    "\n",
    "# You can probably just leave this as default\n",
    "zarrs_raw = 'zarrs'\n",
    "zarr_crops_path = \"zarr_crops\"\n",
    "regions_dir = 'regions'\n",
    "ometiffs_path = 'ometiffs'"
   ]
  },
  {
   "cell_type": "markdown",
   "id": "bf63b99d-ccbb-4226-b644-bd0e884bd40a",
   "metadata": {},
   "source": [
    "## Generate list of .vsi files to use from source folders"
   ]
  },
  {
   "cell_type": "markdown",
   "id": "f56a3640-311c-428e-81e7-178230e1a2d9",
   "metadata": {},
   "source": [
    "<div class=\"alert alert-block alert-info\">\n",
    "⚠️ This is a good stage to rename your files! - The first time this is ran, it will create a .csv file called `vsi_include_list.csv`, scanning all the paths specified. You can edit this file in in Excel. Specify new names for the VSI folders by completing the 'Rename' column. Exclude and .vsi files by setting the 'Include' column to FALSE.\n",
    "</div>"
   ]
  },
  {
   "cell_type": "code",
   "execution_count": null,
   "id": "3222ff88-5c1f-4a8f-9116-191d015dd1f9",
   "metadata": {},
   "outputs": [],
   "source": [
    "wt.generate_vsi_path_list(vsi_path)"
   ]
  },
  {
   "cell_type": "markdown",
   "id": "3a05218a-503a-4ab0-aadc-a5528794d84e",
   "metadata": {},
   "source": [
    "## Extract whole-slide VSI files into Zarr folders\n",
    "Each VSI is extracted into a separate subfolder. Zarr is a data storage format where the image is stored on disk and accessed in chunks, rather than as one huge file."
   ]
  },
  {
   "cell_type": "code",
   "execution_count": null,
   "id": "a28ddb63-6791-430f-a5f2-64bda8bfdeb5",
   "metadata": {},
   "outputs": [],
   "source": [
    "wt.vsi_to_zarr_batch(vsi_files_path = vsi_path,\n",
    "                     output_path = zarrs_raw)"
   ]
  },
  {
   "cell_type": "markdown",
   "id": "c05c3826-e709-4140-b7a0-a0bc467fcd6e",
   "metadata": {},
   "source": [
    "## Annotate slides with regions to extract\n",
    "We can now annotate each slide with the individual regions we would like to crop out, and use for alignment."
   ]
  },
  {
   "cell_type": "code",
   "execution_count": null,
   "id": "9404cbff-4301-4531-815e-791c92f631b9",
   "metadata": {},
   "outputs": [],
   "source": [
    "viewer = wt.launch_annotation_viewer(zarr_path_root=r\"D:\\Programming\\06 2025 - Rotem signalstar\\zarrs\",\n",
    "                                     output_root=regions_dir)"
   ]
  },
  {
   "cell_type": "markdown",
   "id": "d63edade-268f-4a93-a6b2-3871ada35368",
   "metadata": {},
   "source": [
    "## Apply region masks to Zarr folders and create ome.tiffs\n",
    "We now use the region masks to crop out the different regions from each VSI file (stored on disk in Zarr format), ultimately creating .ome.tiff files. These can be loaded into QuPath."
   ]
  },
  {
   "cell_type": "code",
   "execution_count": null,
   "id": "3bd0e037-27a0-4c09-a930-2e85b6dd687d",
   "metadata": {},
   "outputs": [],
   "source": [
    "wt.process_all_zarrs_and_regions(\n",
    "    zarr_path_root=r\"D:\\Programming\\06 2025 - Rotem signalstar\\zarrs\",\n",
    "    regions_root=regions_dir,\n",
    "    zarr_crops_path=zarr_crops_path,\n",
    "    ometiffs_path=ometiffs_path,\n",
    ")"
   ]
  },
  {
   "cell_type": "markdown",
   "id": "4723711e-e3dc-4f11-a3a9-6773e6494eee",
   "metadata": {},
   "source": [
    "# _(Optional)_ Organise ome.tiff files into subfolders\n",
    "Similar to the previous function, this will create a .csv file called `'organise_ometiffs.csv'`. This allows you to, for example, organise matched regions from different slides into subfolders suitable for downstream allignment and merging."
   ]
  },
  {
   "cell_type": "code",
   "execution_count": null,
   "id": "13801762-9654-4373-ac77-167897166d7f",
   "metadata": {},
   "outputs": [],
   "source": [
    "wt.organize_ometiffs()"
   ]
  },
  {
   "cell_type": "code",
   "execution_count": 131,
   "id": "f61f7699-f1b1-46e7-a71e-e03cc77c4733",
   "metadata": {},
   "outputs": [
    {
     "data": {
      "text/plain": [
       "\u001b[31mSignature:\u001b[39m\n",
       "wt.generate_summary_pngs_from_zarrs(\n",
       "    zarr_root,\n",
       "    output_dir=\u001b[33m'zarr_summary_pngs'\u001b[39m,\n",
       "    zarr_level=\u001b[33m'0'\u001b[39m,\n",
       "    display_level=\u001b[32m8\u001b[39m,\n",
       "    stretch_intensity=\u001b[38;5;28;01mTrue\u001b[39;00m,\n",
       "    max_images=\u001b[38;5;28;01mNone\u001b[39;00m,\n",
       ")\n",
       "\u001b[31mDocstring:\u001b[39m\n",
       "Generate PNG summary images from Zarr folders at a specified resolution level.\n",
       "\n",
       "Parameters:\n",
       "- zarr_root: folder containing multiple zarr folders\n",
       "- output_dir: where to save .png summary images\n",
       "- zarr_level: subfolder level in Zarr (default \"0\")\n",
       "- display_level: pyramid level (integer) to visualize\n",
       "- stretch_intensity: apply per-channel contrast stretching\n",
       "- max_images: optionally limit the number of Zarr folders processed\n",
       "\u001b[31mFile:\u001b[39m      d:\\programming\\wsi-tools\\wsitools\\wsitools.py\n",
       "\u001b[31mType:\u001b[39m      function"
      ]
     },
     "metadata": {},
     "output_type": "display_data"
    }
   ],
   "source": [
    "wt.generate_summary_pngs_from_zarrs?"
   ]
  },
  {
   "cell_type": "code",
   "execution_count": 133,
   "id": "8e45dc0f-38e4-46f8-ac9e-0f711cf8d9f5",
   "metadata": {},
   "outputs": [
    {
     "name": "stdout",
     "output_type": "stream",
     "text": [
      "✅ Saved summary PNG: zarr_summary_pngs\\01_06_20250528_102452.png\n",
      "✅ Saved summary PNG: zarr_summary_pngs\\02_03_20250529_170701.png\n"
     ]
    }
   ],
   "source": [
    "wt.generate_summary_pngs_from_zarrs(zarr_root = r\"D:\\Programming\\06 2025 - Rotem signalstar\\zarrs\")"
   ]
  }
 ],
 "metadata": {
  "kernelspec": {
   "display_name": "Python [conda env:sbt]",
   "language": "python",
   "name": "conda-env-sbt-py"
  },
  "language_info": {
   "codemirror_mode": {
    "name": "ipython",
    "version": 3
   },
   "file_extension": ".py",
   "mimetype": "text/x-python",
   "name": "python",
   "nbconvert_exporter": "python",
   "pygments_lexer": "ipython3",
   "version": "3.12.10"
  }
 },
 "nbformat": 4,
 "nbformat_minor": 5
}
