{
 "cells": [
  {
   "cell_type": "markdown",
   "id": "9e8f8783-84b6-42fd-8d39-f7282ed8ac75",
   "metadata": {},
   "source": [
    "# <font color='blue'>Cropping VSI files into OME.TIFFs</font>"
   ]
  },
  {
   "cell_type": "markdown",
   "id": "523cf662-38bc-49e5-a9ac-1f4195d74050",
   "metadata": {
    "tags": []
   },
   "source": [
    "## Imports"
   ]
  },
  {
   "cell_type": "code",
   "execution_count": 112,
   "id": "15015110-d869-4f66-86a7-0cd0d02e1482",
   "metadata": {},
   "outputs": [
    {
     "name": "stdout",
     "output_type": "stream",
     "text": [
      "🔧 Adding Java tool paths to environment:\n",
      "  ⚠️ Warning: path does not exist — C:\\java_packages\\bftools\n",
      "  ✅ Imported: bftools\n",
      "  ⚠️ Warning: path does not exist — C:\\java_packages\\bioformats2raw-0.10.0-rc2\\bin\n",
      "  ✅ Imported: bioformats2raw-0.10.0-rc2\n",
      "  ⚠️ Warning: path does not exist — C:\\java_packages\\raw2ometiff-0.8.0-rc1\\bin\n",
      "  ✅ Imported: raw2ometiff-0.8.0-rc1\n",
      "  ⚠️ Warning: path does not exist — C:\\java_packages\\maven-mvnd-1.0.2-windows-amd64\\bin\n",
      "  ✅ Imported: maven-mvnd-1.0.2-windows-amd64\n",
      "  ⚠️ Warning: path does not exist — C:\\java_packages\\vips-dev-8.16\\bin\n",
      "  ✅ Imported: vips-dev-8.16\n",
      "✅ Java environment updated.\n"
     ]
    }
   ],
   "source": [
    "from wsitools import wsitools as wt\n",
    "import os\n",
    "from pathlib import Path\n",
    "\n",
    "import importlib\n",
    "importlib.reload(wt)\n",
    "\n",
    "wt.add_java_paths()"
   ]
  },
  {
   "cell_type": "markdown",
   "id": "46606afc-aaa5-4d29-af7b-fa507515813c",
   "metadata": {},
   "source": [
    "## Setup paths"
   ]
  },
  {
   "cell_type": "code",
   "execution_count": 113,
   "id": "d2b4d02c-5975-4c94-b850-ec5657e190f6",
   "metadata": {},
   "outputs": [],
   "source": [
    "# Path to all the VSI files we want to process - this can be a list of paths!\n",
    "vsi_path = 'vsis' \n",
    "vsi_path = Path(vsi_path)\n",
    "\n",
    "# You can probably just leave this as default\n",
    "zarrs_raw = 'zarrs'\n",
    "zarr_crops_path = \"zarr_crops\"\n",
    "regions_dir = 'regions'\n",
    "ometiffs_path = 'ometiffs'"
   ]
  },
  {
   "cell_type": "markdown",
   "id": "bf63b99d-ccbb-4226-b644-bd0e884bd40a",
   "metadata": {},
   "source": [
    "## Generate list of .vsi files to use from source folders"
   ]
  },
  {
   "cell_type": "markdown",
   "id": "f56a3640-311c-428e-81e7-178230e1a2d9",
   "metadata": {},
   "source": [
    "<div class=\"alert alert-block alert-info\">\n",
    "⚠️ This is a good stage to rename your files! - The first time this is ran, it will create a .csv file called `vsi_include_list.csv` (edit in Excel). In it, you can specify new names for the VSI folders, and also exclude any VSI files you don't want including.\n",
    "</div>"
   ]
  },
  {
   "cell_type": "code",
   "execution_count": 114,
   "id": "3222ff88-5c1f-4a8f-9116-191d015dd1f9",
   "metadata": {},
   "outputs": [
    {
     "name": "stdout",
     "output_type": "stream",
     "text": [
      "Created new CSV at vsi_list.csv\n"
     ]
    },
    {
     "data": {
      "text/html": [
       "<table border=\"1\" class=\"dataframe\">\n",
       "  <thead>\n",
       "    <tr style=\"text-align: right;\">\n",
       "      <th></th>\n",
       "      <th>Path</th>\n",
       "      <th>Include</th>\n",
       "      <th>Rename</th>\n",
       "    </tr>\n",
       "    <tr>\n",
       "      <th>Filename</th>\n",
       "      <th></th>\n",
       "      <th></th>\n",
       "      <th></th>\n",
       "    </tr>\n",
       "  </thead>\n",
       "  <tbody>\n",
       "  </tbody>\n",
       "</table>"
      ],
      "text/plain": [
       "<IPython.core.display.HTML object>"
      ]
     },
     "metadata": {},
     "output_type": "display_data"
    }
   ],
   "source": [
    "wt.generate_vsi_path_list(vsi_path)"
   ]
  },
  {
   "cell_type": "markdown",
   "id": "3a05218a-503a-4ab0-aadc-a5528794d84e",
   "metadata": {},
   "source": [
    "## Extract whole-slide VSI files into Zarr folders\n",
    "Each VSI is extracted into a separate subfolder. Zarr is a data storage format where the image is stored on disk and accessed in chunks, rather than as one huge file."
   ]
  },
  {
   "cell_type": "code",
   "execution_count": null,
   "id": "a28ddb63-6791-430f-a5f2-64bda8bfdeb5",
   "metadata": {},
   "outputs": [],
   "source": [
    "wt.vsi_to_zarr_batch(vsi_files_path = vsi_path,\n",
    "                     output_path = zarrs_raw)"
   ]
  },
  {
   "cell_type": "markdown",
   "id": "c05c3826-e709-4140-b7a0-a0bc467fcd6e",
   "metadata": {},
   "source": [
    "## Annotate slides with regions to extract\n",
    "We can now annotate each slide with the individual regions we would like to crop out, and use for alignment."
   ]
  },
  {
   "cell_type": "code",
   "execution_count": null,
   "id": "9404cbff-4301-4531-815e-791c92f631b9",
   "metadata": {},
   "outputs": [],
   "source": [
    "viewer = wt.launch_annotation_viewer(zarr_path_root=zarrs_raw,\n",
    "                                     output_root=regions_dir)"
   ]
  },
  {
   "cell_type": "markdown",
   "id": "d63edade-268f-4a93-a6b2-3871ada35368",
   "metadata": {},
   "source": [
    "## Apply region masks to Zarr folders and create ome.tiffs\n",
    "We now use the region masks to crop out the different regions from each VSI file (stored on disk in Zarr format), ultimately creating .ome.tiff files. These can be loaded into QuPath."
   ]
  },
  {
   "cell_type": "code",
   "execution_count": null,
   "id": "3bd0e037-27a0-4c09-a930-2e85b6dd687d",
   "metadata": {},
   "outputs": [],
   "source": [
    "wt.process_all_zarrs_and_regions(\n",
    "    zarr_path_root=zarrs_raw,\n",
    "    regions_root=regions_dir,\n",
    "    zarr_crops_path=zarr_crops_path,\n",
    "    ometiffs_path=ometiffs_path,\n",
    ")"
   ]
  },
  {
   "cell_type": "markdown",
   "id": "4723711e-e3dc-4f11-a3a9-6773e6494eee",
   "metadata": {},
   "source": [
    "# _(Optional)_ Organise ome.tiff files into subfolders\n",
    "Similar to the previous function, this will create a .csv file called `'organise_ometiffs.csv'`. This allows you to, for example, organise matched regions from different slides into subfolders suitable for downstream allignment and merging."
   ]
  },
  {
   "cell_type": "code",
   "execution_count": null,
   "id": "13801762-9654-4373-ac77-167897166d7f",
   "metadata": {},
   "outputs": [],
   "source": [
    "wt.organize_ometiffs()"
   ]
  }
 ],
 "metadata": {
  "kernelspec": {
   "display_name": "Python [conda env:sbt]",
   "language": "python",
   "name": "conda-env-sbt-py"
  },
  "language_info": {
   "codemirror_mode": {
    "name": "ipython",
    "version": 3
   },
   "file_extension": ".py",
   "mimetype": "text/x-python",
   "name": "python",
   "nbconvert_exporter": "python",
   "pygments_lexer": "ipython3",
   "version": "3.12.10"
  }
 },
 "nbformat": 4,
 "nbformat_minor": 5
}
