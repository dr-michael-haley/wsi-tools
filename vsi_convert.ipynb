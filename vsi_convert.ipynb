{
 "cells": [
  {
   "cell_type": "code",
   "execution_count": 2,
   "id": "24e81f7b-38e0-486c-94b0-58f63dc419cc",
   "metadata": {},
   "outputs": [],
   "source": [
    "import os"
   ]
  },
  {
   "cell_type": "code",
   "execution_count": 3,
   "id": "f545b091-58e1-4cf4-970c-f3b1eecad196",
   "metadata": {},
   "outputs": [],
   "source": [
    "from pathlib import Path"
   ]
  },
  {
   "cell_type": "code",
   "execution_count": 4,
   "id": "98b90721-4371-4ea4-a934-308285e4d399",
   "metadata": {},
   "outputs": [],
   "source": [
    "os.environ['PATH']\n",
    "os.environ[\"PATH\"] += os.pathsep + \"D:\\\\Programming\\\\vsi2tif\\\\vips-dev-8.15\\\\bin\""
   ]
  },
  {
   "cell_type": "code",
   "execution_count": 5,
   "id": "302e1167-89b2-44b5-be73-5ff4e40a7ef2",
   "metadata": {},
   "outputs": [
    {
     "data": {
      "text/plain": [
       "'C:\\\\Anaconda3\\\\envs\\\\sbt;C:\\\\Anaconda3\\\\envs\\\\sbt\\\\Library\\\\mingw-w64\\\\bin;C:\\\\Anaconda3\\\\envs\\\\sbt\\\\Library\\\\usr\\\\bin;C:\\\\Anaconda3\\\\envs\\\\sbt\\\\Library\\\\bin;C:\\\\Anaconda3\\\\envs\\\\sbt\\\\Scripts;C:\\\\Anaconda3\\\\envs\\\\sbt\\\\bin;C:\\\\Anaconda3\\\\condabin;C:\\\\Program Files (x86)\\\\Common Files\\\\Oracle\\\\Java\\\\javapath;C:\\\\WINDOWS\\\\system32;C:\\\\WINDOWS;C:\\\\WINDOWS\\\\System32\\\\Wbem;C:\\\\WINDOWS\\\\System32\\\\WindowsPowerShell\\\\v1.0;C:\\\\WINDOWS\\\\System32\\\\OpenSSH;C:\\\\PROGRAM FILES\\\\OPENOFFICE.ORG 3\\\\URE\\\\BIN;C:\\\\PROGRAM FILES (X86)\\\\OPENOFFICE.ORG 3\\\\URE\\\\BIN;C:\\\\Program Files\\\\Novell\\\\iPrint;C:\\\\Git\\\\cmd;C:\\\\Program Files\\\\MATLAB\\\\MATLAB Compiler Runtime\\\\v84\\\\runtime\\\\win64;C:\\\\Program Files\\\\MATLAB\\\\R2021a\\\\runtime\\\\win64;C:\\\\Program Files\\\\MATLAB\\\\R2021a\\\\bin;C:\\\\Anaconda3\\\\Library\\\\bin;C:\\\\Users\\\\mfbx6mh8\\\\AppData\\\\Roaming\\\\jupyter;C:\\\\Program Files\\\\R\\\\R-4.2.3\\\\bin;C:\\\\Users\\\\mfbx6mh8\\\\AppData\\\\Local\\\\Microsoft\\\\WindowsApps;C:\\\\Users\\\\mfbx6mh8\\\\AppData\\\\Local\\\\GitHubDesktop\\\\bin;D:\\\\Programming\\\\vsi2tif\\\\vips-dev-8.15\\\\bin'"
      ]
     },
     "execution_count": 5,
     "metadata": {},
     "output_type": "execute_result"
    }
   ],
   "source": [
    "os.environ['PATH']"
   ]
  },
  {
   "cell_type": "code",
   "execution_count": 6,
   "id": "68a61134-172e-4b75-917d-7c94b5541bb4",
   "metadata": {},
   "outputs": [],
   "source": [
    "import vsi2tif.src.process as v2t"
   ]
  },
  {
   "cell_type": "code",
   "execution_count": 7,
   "id": "79adacdb-b58b-4b68-8618-36271d49343b",
   "metadata": {},
   "outputs": [
    {
     "data": {
      "text/plain": [
       "\u001b[31mSignature:\u001b[39m\n",
       "v2t.cellsens2tif_batch(\n",
       "    input_path: str,\n",
       "    output_path: str,\n",
       "    bfconvert: str,\n",
       "    compression: str = \u001b[33m'jpeg'\u001b[39m,\n",
       "    tz: int = \u001b[32m1024\u001b[39m,\n",
       "    plane: int = \u001b[32m0\u001b[39m,\n",
       "    quality: int = \u001b[32m85\u001b[39m,\n",
       "    max_mem: int = \u001b[32m32\u001b[39m,\n",
       "    remove_name_spaces: bool = \u001b[38;5;28;01mFalse\u001b[39;00m,\n",
       "    skip_converted: bool = \u001b[38;5;28;01mTrue\u001b[39;00m,\n",
       "    extension_type: str = \u001b[33m'.vsi'\u001b[39m,\n",
       "    verbose: int = \u001b[32m1\u001b[39m,\n",
       ") -> \u001b[38;5;28;01mNone\u001b[39;00m\n",
       "\u001b[31mDocstring:\u001b[39m <no docstring>\n",
       "\u001b[31mFile:\u001b[39m      c:\\anaconda3\\envs\\sbt\\lib\\site-packages\\vsi2tif\\src\\process.py\n",
       "\u001b[31mType:\u001b[39m      function"
      ]
     },
     "metadata": {},
     "output_type": "display_data"
    }
   ],
   "source": [
    "v2t.cellsens2tif_batch?"
   ]
  },
  {
   "cell_type": "code",
   "execution_count": 8,
   "id": "c5fca723-f908-4019-b80b-6ef6ed385eb0",
   "metadata": {},
   "outputs": [
    {
     "name": "stdout",
     "output_type": "stream",
     "text": [
      "Processing took 0.000 seconds\n"
     ]
    }
   ],
   "source": [
    "v2t.cellsens2tif_single(\n",
    "                input_path = 'Images/1.vsi',\n",
    "                output_path = 'Images_output/1.tiff',\n",
    "                bfconvert = 'bftools/bfconvert',\n",
    "                compression = 'jpeg',\n",
    "                #tz: int = 1024,\n",
    "                plane = 0,\n",
    "                #quality: int = 85,\n",
    "                #max_mem: int = 32,\n",
    "                skip_converted = False,\n",
    "                verbose = 4,\n",
    "            )"
   ]
  },
  {
   "cell_type": "code",
   "execution_count": 26,
   "id": "f5afacaf-50fa-42c3-bf5c-a1a3b6359032",
   "metadata": {},
   "outputs": [
    {
     "name": "stderr",
     "output_type": "stream",
     "text": [
      "100%|██████████████████████████████████████████████████████████████████████████████████| 2/2 [00:00<00:00, 3674.38it/s]"
     ]
    },
    {
     "name": "stdout",
     "output_type": "stream",
     "text": [
      "Processing took 0.000 seconds\n",
      "Processing took 0.000 seconds\n",
      "Processing took 0.006 seconds\n"
     ]
    },
    {
     "name": "stderr",
     "output_type": "stream",
     "text": [
      "\n"
     ]
    }
   ],
   "source": [
    "v2t.cellsens2tif_batch(\n",
    "                input_path = 'Images',\n",
    "                output_path = 'Images_output',\n",
    "                bfconvert = 'bftools/bfconvert',\n",
    "                compression = 'jpeg',\n",
    "                #tz: int = 1024,\n",
    "                #plane: int = 0,\n",
    "                #quality: int = 85,\n",
    "                #max_mem: int = 32,\n",
    "                skip_converted = False,\n",
    "                verbose = 3,\n",
    "            )"
   ]
  },
  {
   "cell_type": "code",
   "execution_count": null,
   "id": "a7f4e72a-1d30-4eea-886f-afe3baa5213f",
   "metadata": {},
   "outputs": [],
   "source": []
  }
 ],
 "metadata": {
  "kernelspec": {
   "display_name": "Python [conda env:sbt]",
   "language": "python",
   "name": "conda-env-sbt-py"
  },
  "language_info": {
   "codemirror_mode": {
    "name": "ipython",
    "version": 3
   },
   "file_extension": ".py",
   "mimetype": "text/x-python",
   "name": "python",
   "nbconvert_exporter": "python",
   "pygments_lexer": "ipython3",
   "version": "3.12.10"
  }
 },
 "nbformat": 4,
 "nbformat_minor": 5
}
