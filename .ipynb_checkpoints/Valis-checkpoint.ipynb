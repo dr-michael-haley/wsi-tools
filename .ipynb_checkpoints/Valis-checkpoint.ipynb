{
 "cells": [
  {
   "cell_type": "markdown",
   "id": "63f718e2-b506-47dc-a1fb-2a918a49a5a6",
   "metadata": {
    "tags": []
   },
   "source": [
    "# <font color='blue'>Valis slide-alignment for SignalStar</font>"
   ]
  },
  {
   "cell_type": "markdown",
   "id": "f0c52198-db70-4b44-84f9-9d5d66bfce4e",
   "metadata": {},
   "source": [
    "## Imports"
   ]
  },
  {
   "cell_type": "code",
   "execution_count": 2,
   "id": "15c9e1d0-69b5-4eb1-a863-fda97889ca24",
   "metadata": {},
   "outputs": [
    {
     "name": "stderr",
     "output_type": "stream",
     "text": [
      "C:\\Anaconda3\\envs\\valis\\lib\\site-packages\\tqdm\\auto.py:21: TqdmWarning: IProgress not found. Please update jupyter and ipywidgets. See https://ipywidgets.readthedocs.io/en/stable/user_install.html\n",
      "  from .autonotebook import tqdm as notebook_tqdm\n"
     ]
    }
   ],
   "source": [
    "from pathlib import Path\n",
    "import time\n",
    "import os\n",
    "import numpy as np\n",
    "from valis import registration\n",
    "from valis.micro_rigid_registrar import MicroRigidRegistrar # For high resolution rigid registration\n",
    "\n",
    "from tifffile import TiffFile\n",
    "from ome_types import from_xml\n",
    "from valis import valtils"
   ]
  },
  {
   "cell_type": "markdown",
   "id": "acfac2e5-b3d2-4b86-9798-42178b66f644",
   "metadata": {},
   "source": [
    "## Settings"
   ]
  },
  {
   "cell_type": "markdown",
   "id": "21d578d8-be63-43f1-b73a-75517865d7a5",
   "metadata": {},
   "source": [
    "<div class=\"alert alert-block alert-info\">\n",
    "    <b>ometiffs_paths</b> should contain folders for set of images that will be merged, ideally created using the previous notebook <i>VSI_cropping.ipynb</i>\n",
    "</div>"
   ]
  },
  {
   "cell_type": "code",
   "execution_count": 25,
   "id": "2169700a-c0bd-4ae0-9c7b-73cf53b41b4a",
   "metadata": {},
   "outputs": [],
   "source": [
    "ometiffs_paths = 'ometiffs'\n",
    "ometiffs_paths = Path(ometiffs_paths)\n",
    "\n",
    "# Whether to use micro or macro registration. Look at the Valis documentaiton for details: https://valis.readthedocs.io/en/latest/examples.html#high-resolution-registration\n",
    "registration_method = 'micro' # or 'macro'\n",
    "\n",
    "# Fraction full resolution used for non-rigid registration in micro-mode\n",
    "micro_reg_fraction = 0.25 "
   ]
  },
  {
   "cell_type": "markdown",
   "id": "6754743f-c0c1-41cd-9830-c794a7dd9001",
   "metadata": {},
   "source": [
    "## Run registration and merging"
   ]
  },
  {
   "cell_type": "code",
   "execution_count": null,
   "id": "0eebc4e2-7433-4bae-80d7-36d863226249",
   "metadata": {},
   "outputs": [],
   "source": [
    "for f in ometiffs_paths.iterdir():\n",
    "    \n",
    "    # ------------\n",
    "    # Set up parameters\n",
    "    # ------------\n",
    "    \n",
    "    slide_name = f.stem\n",
    "    slide_src_dir = f\n",
    "    results_dst_dir = \"./registered_slides\"\n",
    "    registered_slide_dst_dir = f\"./registered_slides/{slide_name}\"\n",
    "    merged_slide_dst_f = f\"./merged/{slide_name}.ome.tiff\"\n",
    "\n",
    "    # ------------\n",
    "    # Registration\n",
    "    # ------------\n",
    "    \n",
    "    # Normal (non-micro) registration\n",
    "    if registration_method=='macro':\n",
    "        \n",
    "        # Create a Valis object and use it to register the slides in slide_src_dir\n",
    "        registrar = registration.Valis(slide_src_dir, results_dst_dir)\n",
    "        rigid_registrar, non_rigid_registrar, error_df = registrar.register()\n",
    "    \n",
    "\n",
    "    # Micro registration        \n",
    "    elif registration_method=='micro':\n",
    "        \n",
    "        # Perform high resolution rigid registration using the MicroRigidRegistrar\n",
    "        start = time.time()\n",
    "        registrar = registration.Valis(slide_src_dir, results_dst_dir, micro_rigid_registrar_cls=MicroRigidRegistrar)\n",
    "        rigid_registrar, non_rigid_registrar, error_df = registrar.register()\n",
    "\n",
    "        # Calculate what `max_non_rigid_registration_dim_px` needs to be to do non-rigid registration on an image that is 25% full resolution.\n",
    "        img_dims = np.array([slide_obj.slide_dimensions_wh[0] for slide_obj in registrar.slide_dict.values()])\n",
    "        min_max_size = np.min([np.max(d) for d in img_dims])\n",
    "        img_areas = [np.multiply(*d) for d in img_dims]\n",
    "        max_img_w, max_img_h = tuple(img_dims[np.argmax(img_areas)])\n",
    "        micro_reg_size = np.floor(min_max_size*micro_reg_fraction).astype(int)\n",
    "\n",
    "        # Perform high resolution non-rigid registration using 20% full resolution\n",
    "        micro_reg, micro_error = registrar.register_micro(max_non_rigid_registration_dim_px=micro_reg_size)\n",
    "        \n",
    "    # --------------\n",
    "    # Channel names\n",
    "    # --------------\n",
    "    \n",
    "    def get_channel_names_ome_tiff(path):\n",
    "        # Helper function to get channel names from tiff files\n",
    "        with TiffFile(path) as tif:\n",
    "            ome_xml = tif.ome_metadata\n",
    "            ome = from_xml(ome_xml)\n",
    "            return [channel.name for channel in ome.images[0].pixels.channels]\n",
    "\n",
    "    def cnames_from_filename(src_f):\n",
    "        # Clean up channel names specifically as they come out from Olympus VS200\n",
    "        channels = get_channel_names_ome_tiff(src_f)\n",
    "        channels = [c.replace('KSS ','') for c in channels]\n",
    "\n",
    "        f = valtils.get_name(src_f)\n",
    "        f = f.split(\"_\")[-1]\n",
    "        return [f+\" \"+c for c in channels]\n",
    "\n",
    "    channel_name_dict = {f:cnames_from_filename(f) for f in registrar.original_img_list}\n",
    "    \n",
    "    # ------------\n",
    "    # Registration\n",
    "    # ------------\n",
    "    \n",
    "    merged_img, channel_names, ome_xml = \\\n",
    "        registrar.warp_and_merge_slides(merged_slide_dst_f,\n",
    "                                        channel_name_dict=channel_name_dict,\n",
    "                                        drop_duplicates=True)\n",
    "\n",
    "registration.kill_jvm() # Kill the JVM"
   ]
  }
 ],
 "metadata": {
  "kernelspec": {
   "display_name": "Python [conda env:valis]",
   "language": "python",
   "name": "conda-env-valis-py"
  },
  "language_info": {
   "codemirror_mode": {
    "name": "ipython",
    "version": 3
   },
   "file_extension": ".py",
   "mimetype": "text/x-python",
   "name": "python",
   "nbconvert_exporter": "python",
   "pygments_lexer": "ipython3",
   "version": "3.10.17"
  }
 },
 "nbformat": 4,
 "nbformat_minor": 5
}
